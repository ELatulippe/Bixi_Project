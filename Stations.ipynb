{
 "cells": [
  {
   "cell_type": "code",
   "execution_count": 6,
   "metadata": {},
   "outputs": [],
   "source": [
    "import pandas as pd \n",
    "import matplotlib.pyplot as plt \n",
    "import plotly.express as px\n",
    "import numpy as np"
   ]
  },
  {
   "cell_type": "code",
   "execution_count": 4,
   "metadata": {},
   "outputs": [],
   "source": [
    "stations_april_2022_df = pd.read_csv(\"./BIXI_Data/April 2022/20220104_stations.csv\", delimiter = \",\", index_col=\"pk\")"
   ]
  },
  {
   "cell_type": "code",
   "execution_count": 5,
   "metadata": {},
   "outputs": [
    {
     "data": {
      "text/html": [
       "<div>\n",
       "<style scoped>\n",
       "    .dataframe tbody tr th:only-of-type {\n",
       "        vertical-align: middle;\n",
       "    }\n",
       "\n",
       "    .dataframe tbody tr th {\n",
       "        vertical-align: top;\n",
       "    }\n",
       "\n",
       "    .dataframe thead th {\n",
       "        text-align: right;\n",
       "    }\n",
       "</style>\n",
       "<table border=\"1\" class=\"dataframe\">\n",
       "  <thead>\n",
       "    <tr style=\"text-align: right;\">\n",
       "      <th></th>\n",
       "      <th>name</th>\n",
       "      <th>latitude</th>\n",
       "      <th>longitude</th>\n",
       "    </tr>\n",
       "    <tr>\n",
       "      <th>pk</th>\n",
       "      <th></th>\n",
       "      <th></th>\n",
       "      <th></th>\n",
       "    </tr>\n",
       "  </thead>\n",
       "  <tbody>\n",
       "    <tr>\n",
       "      <th>9</th>\n",
       "      <td>LaSalle / 90e avenue</td>\n",
       "      <td>45.417294</td>\n",
       "      <td>-73.644300</td>\n",
       "    </tr>\n",
       "    <tr>\n",
       "      <th>10</th>\n",
       "      <td>Métro Angrignon (Lamont /  des Trinitaires)</td>\n",
       "      <td>45.446910</td>\n",
       "      <td>-73.603630</td>\n",
       "    </tr>\n",
       "    <tr>\n",
       "      <th>13</th>\n",
       "      <td>Métro de l'Église (Ross / de l'Église)</td>\n",
       "      <td>45.462726</td>\n",
       "      <td>-73.565959</td>\n",
       "    </tr>\n",
       "    <tr>\n",
       "      <th>17</th>\n",
       "      <td>Tolhurst / Fleury</td>\n",
       "      <td>45.544149</td>\n",
       "      <td>-73.667520</td>\n",
       "    </tr>\n",
       "    <tr>\n",
       "      <th>38</th>\n",
       "      <td>Métro Vendôme (de Marlowe / de Maisonneuve)</td>\n",
       "      <td>45.473868</td>\n",
       "      <td>-73.604538</td>\n",
       "    </tr>\n",
       "  </tbody>\n",
       "</table>\n",
       "</div>"
      ],
      "text/plain": [
       "                                           name   latitude  longitude\n",
       "pk                                                                   \n",
       "9                          LaSalle / 90e avenue  45.417294 -73.644300\n",
       "10  Métro Angrignon (Lamont /  des Trinitaires)  45.446910 -73.603630\n",
       "13       Métro de l'Église (Ross / de l'Église)  45.462726 -73.565959\n",
       "17                            Tolhurst / Fleury  45.544149 -73.667520\n",
       "38  Métro Vendôme (de Marlowe / de Maisonneuve)  45.473868 -73.604538"
      ]
     },
     "execution_count": 5,
     "metadata": {},
     "output_type": "execute_result"
    }
   ],
   "source": [
    "stations_april_2022_df.head()"
   ]
  },
  {
   "cell_type": "code",
   "execution_count": 14,
   "metadata": {},
   "outputs": [
    {
     "data": {
      "image/png": "[encoded data removed]",
      "text/plain": [
       "<Figure size 432x288 with 1 Axes>"
      ]
     },
     "metadata": {
      "needs_background": "light"
     },
     "output_type": "display_data"
    }
   ],
   "source": [
    "plt.scatter(stations_april_2022_df[\"latitude\"], stations_april_2022_df[\"longitude\"])\n",
    "plt.xlabel(\"Latitude\")\n",
    "plt.ylabel(\"Longitude\")\n",
    "plt.show()"
   ]
  },
  {
   "cell_type": "code",
   "execution_count": 13,
   "metadata": {},
   "outputs": [
    {
     "data": {
      "text/plain": [
       "(40.0, 50.0]      724\n",
       "(-10.001, 0.0]      1\n",
       "(0.0, 10.0]         0\n",
       "(10.0, 20.0]        0\n",
       "(20.0, 30.0]        0\n",
       "(30.0, 40.0]        0\n",
       "Name: latitude, dtype: int64"
      ]
     },
     "execution_count": 13,
     "metadata": {},
     "output_type": "execute_result"
    }
   ],
   "source": [
    "stations_april_2022_df[\"latitude\"].value_counts(bins = [-10, 0, 10, 20, 30, 40, 50])\n",
    "\n"
   ]
  },
  {
   "cell_type": "markdown",
   "metadata": {},
   "source": [
    "## Drop Station 856 Smith / Peel -1.0,-1.0"
   ]
  },
  {
   "cell_type": "code",
   "execution_count": 15,
   "metadata": {},
   "outputs": [],
   "source": [
    "stations_april_2022_df = stations_april_2022_df[stations_april_2022_df[\"latitude\"] >= 0]\n"
   ]
  },
  {
   "cell_type": "code",
   "execution_count": 16,
   "metadata": {},
   "outputs": [
    {
     "data": {
      "image/png": "[encoded data removed]",
      "text/plain": [
       "<Figure size 432x288 with 1 Axes>"
      ]
     },
     "metadata": {
      "needs_background": "light"
     },
     "output_type": "display_data"
    }
   ],
   "source": [
    "plt.scatter(stations_april_2022_df[\"latitude\"], stations_april_2022_df[\"longitude\"])\n",
    "plt.xlabel(\"Latitude\")\n",
    "plt.ylabel(\"Longitude\")\n",
    "plt.show()"
   ]
  },
  {
   "cell_type": "code",
   "execution_count": null,
   "metadata": {},
   "outputs": [],
   "source": [
    "fig = px.scatter_mapbox(stations_april_2022_df, \n",
    "                        lon = stations_april_2022_df[\"longitude\"], \n",
    "                        lat = stations_april_2022_df[\"latitude\"], \n",
    "                        zoom = 3, \n",
    "                        hover_name = stations_april_2022_df[\"name\"], \n",
    "                        width = 1200, \n",
    "                        height = 900, \n",
    "                        title = \"Bixi Stations in Montreal\"\n",
    ")\n",
    "fig.update_layout(mapbox_style = \"open-street-map\")\n",
    "fig.show()\n",
    "# https://www.youtube.com/watch?v=1-6ndLqsy6M&ab_channel=SeanMacKenzieDataEngineering"
   ]
  },
  {
   "cell_type": "code",
   "execution_count": 25,
   "metadata": {},
   "outputs": [],
   "source": [
    "Stations_2014_df = pd.read_csv(\"./BIXI_Data/Year 2014/BixiMontrealRentals2014/Stations_2014.csv\", delimiter = \",\", index_col=\"code\")"
   ]
  },
  {
   "cell_type": "code",
   "execution_count": 26,
   "metadata": {},
   "outputs": [
    {
     "data": {
      "text/html": [
       "<div>\n",
       "<style scoped>\n",
       "    .dataframe tbody tr th:only-of-type {\n",
       "        vertical-align: middle;\n",
       "    }\n",
       "\n",
       "    .dataframe tbody tr th {\n",
       "        vertical-align: top;\n",
       "    }\n",
       "\n",
       "    .dataframe thead th {\n",
       "        text-align: right;\n",
       "    }\n",
       "</style>\n",
       "<table border=\"1\" class=\"dataframe\">\n",
       "  <thead>\n",
       "    <tr style=\"text-align: right;\">\n",
       "      <th></th>\n",
       "      <th>name</th>\n",
       "      <th>latitude</th>\n",
       "      <th>longitude</th>\n",
       "    </tr>\n",
       "    <tr>\n",
       "      <th>code</th>\n",
       "      <th></th>\n",
       "      <th></th>\n",
       "      <th></th>\n",
       "    </tr>\n",
       "  </thead>\n",
       "  <tbody>\n",
       "    <tr>\n",
       "      <th>6209</th>\n",
       "      <td>Milton / Clark</td>\n",
       "      <td>45.512520</td>\n",
       "      <td>-73.570620</td>\n",
       "    </tr>\n",
       "    <tr>\n",
       "      <th>6436</th>\n",
       "      <td>Côte St-Antoine / Clarke</td>\n",
       "      <td>45.486452</td>\n",
       "      <td>-73.595234</td>\n",
       "    </tr>\n",
       "    <tr>\n",
       "      <th>6214</th>\n",
       "      <td>Square St-Louis</td>\n",
       "      <td>45.517350</td>\n",
       "      <td>-73.569060</td>\n",
       "    </tr>\n",
       "    <tr>\n",
       "      <th>6248</th>\n",
       "      <td>St-Dominique / Rachel</td>\n",
       "      <td>45.518593</td>\n",
       "      <td>-73.581566</td>\n",
       "    </tr>\n",
       "    <tr>\n",
       "      <th>6164</th>\n",
       "      <td>Chambord / Laurier</td>\n",
       "      <td>45.532955</td>\n",
       "      <td>-73.584194</td>\n",
       "    </tr>\n",
       "  </tbody>\n",
       "</table>\n",
       "</div>"
      ],
      "text/plain": [
       "                          name   latitude  longitude\n",
       "code                                                \n",
       "6209            Milton / Clark  45.512520 -73.570620\n",
       "6436  Côte St-Antoine / Clarke  45.486452 -73.595234\n",
       "6214           Square St-Louis  45.517350 -73.569060\n",
       "6248     St-Dominique / Rachel  45.518593 -73.581566\n",
       "6164        Chambord / Laurier  45.532955 -73.584194"
      ]
     },
     "execution_count": 26,
     "metadata": {},
     "output_type": "execute_result"
    }
   ],
   "source": [
    "Stations_2014_df.head()"
   ]
  },
  {
   "cell_type": "code",
   "execution_count": 45,
   "metadata": {},
   "outputs": [],
   "source": [
    "Stations_2015_df = pd.read_csv(\"./BIXI_Data/Year 2015/BixiMontrealRentals2015/Stations_2015.csv\", delimiter = \",\", index_col=\"code\")\n",
    "Stations_2015_df['code'] = Stations_2015_df.index\n"
   ]
  },
  {
   "cell_type": "code",
   "execution_count": 58,
   "metadata": {},
   "outputs": [],
   "source": [
    "df_all = Stations_2015_df.merge(Stations_2014_df.drop_duplicates(), on=[\"latitude\",\"longitude\",\"name\"], \n",
    "                   how='left', indicator=True)\n"
   ]
  },
  {
   "cell_type": "code",
   "execution_count": 59,
   "metadata": {},
   "outputs": [
    {
     "data": {
      "text/html": [
       "<div>\n",
       "<style scoped>\n",
       "    .dataframe tbody tr th:only-of-type {\n",
       "        vertical-align: middle;\n",
       "    }\n",
       "\n",
       "    .dataframe tbody tr th {\n",
       "        vertical-align: top;\n",
       "    }\n",
       "\n",
       "    .dataframe thead th {\n",
       "        text-align: right;\n",
       "    }\n",
       "</style>\n",
       "<table border=\"1\" class=\"dataframe\">\n",
       "  <thead>\n",
       "    <tr style=\"text-align: right;\">\n",
       "      <th></th>\n",
       "      <th>name</th>\n",
       "      <th>latitude</th>\n",
       "      <th>longitude</th>\n",
       "      <th>code</th>\n",
       "      <th>_merge</th>\n",
       "    </tr>\n",
       "  </thead>\n",
       "  <tbody>\n",
       "    <tr>\n",
       "      <th>0</th>\n",
       "      <td>Chambord / Laurier</td>\n",
       "      <td>45.532955</td>\n",
       "      <td>-73.584194</td>\n",
       "      <td>6164</td>\n",
       "      <td>both</td>\n",
       "    </tr>\n",
       "    <tr>\n",
       "      <th>1</th>\n",
       "      <td>Parc Jeanne Mance (monument George-Étienne Car...</td>\n",
       "      <td>45.514960</td>\n",
       "      <td>-73.585030</td>\n",
       "      <td>6216</td>\n",
       "      <td>both</td>\n",
       "    </tr>\n",
       "    <tr>\n",
       "      <th>2</th>\n",
       "      <td>Berri / St-Grégoire</td>\n",
       "      <td>45.529802</td>\n",
       "      <td>-73.591766</td>\n",
       "      <td>6192</td>\n",
       "      <td>both</td>\n",
       "    </tr>\n",
       "    <tr>\n",
       "      <th>3</th>\n",
       "      <td>Gilford / Brébeuf</td>\n",
       "      <td>45.530730</td>\n",
       "      <td>-73.581530</td>\n",
       "      <td>6158</td>\n",
       "      <td>both</td>\n",
       "    </tr>\n",
       "    <tr>\n",
       "      <th>4</th>\n",
       "      <td>Marquette / Rachel</td>\n",
       "      <td>45.529802</td>\n",
       "      <td>-73.570290</td>\n",
       "      <td>6140</td>\n",
       "      <td>both</td>\n",
       "    </tr>\n",
       "  </tbody>\n",
       "</table>\n",
       "</div>"
      ],
      "text/plain": [
       "                                                name   latitude  longitude  \\\n",
       "0                                 Chambord / Laurier  45.532955 -73.584194   \n",
       "1  Parc Jeanne Mance (monument George-Étienne Car...  45.514960 -73.585030   \n",
       "2                                Berri / St-Grégoire  45.529802 -73.591766   \n",
       "3                                  Gilford / Brébeuf  45.530730 -73.581530   \n",
       "4                                 Marquette / Rachel  45.529802 -73.570290   \n",
       "\n",
       "   code _merge  \n",
       "0  6164   both  \n",
       "1  6216   both  \n",
       "2  6192   both  \n",
       "3  6158   both  \n",
       "4  6140   both  "
      ]
     },
     "execution_count": 59,
     "metadata": {},
     "output_type": "execute_result"
    }
   ],
   "source": [
    "df_all.head()"
   ]
  },
  {
   "cell_type": "code",
   "execution_count": 60,
   "metadata": {},
   "outputs": [
    {
     "data": {
      "text/plain": [
       "both          458\n",
       "left_only       2\n",
       "right_only      0\n",
       "Name: _merge, dtype: int64"
      ]
     },
     "execution_count": 60,
     "metadata": {},
     "output_type": "execute_result"
    }
   ],
   "source": [
    "df_all['_merge'].value_counts()"
   ]
  },
  {
   "cell_type": "code",
   "execution_count": 51,
   "metadata": {},
   "outputs": [
    {
     "data": {
      "text/html": [
       "<div>\n",
       "<style scoped>\n",
       "    .dataframe tbody tr th:only-of-type {\n",
       "        vertical-align: middle;\n",
       "    }\n",
       "\n",
       "    .dataframe tbody tr th {\n",
       "        vertical-align: top;\n",
       "    }\n",
       "\n",
       "    .dataframe thead th {\n",
       "        text-align: right;\n",
       "    }\n",
       "</style>\n",
       "<table border=\"1\" class=\"dataframe\">\n",
       "  <thead>\n",
       "    <tr style=\"text-align: right;\">\n",
       "      <th></th>\n",
       "      <th>name</th>\n",
       "      <th>latitude</th>\n",
       "      <th>longitude</th>\n",
       "      <th>code</th>\n",
       "      <th>_merge</th>\n",
       "    </tr>\n",
       "  </thead>\n",
       "  <tbody>\n",
       "    <tr>\n",
       "      <th>249</th>\n",
       "      <td>Greene / St-Ambroise</td>\n",
       "      <td>45.478796</td>\n",
       "      <td>-73.576424</td>\n",
       "      <td>6748</td>\n",
       "      <td>left_only</td>\n",
       "    </tr>\n",
       "    <tr>\n",
       "      <th>419</th>\n",
       "      <td>Drolet / St-Zotique</td>\n",
       "      <td>45.534795</td>\n",
       "      <td>-73.609546</td>\n",
       "      <td>6311</td>\n",
       "      <td>left_only</td>\n",
       "    </tr>\n",
       "  </tbody>\n",
       "</table>\n",
       "</div>"
      ],
      "text/plain": [
       "                     name   latitude  longitude  code     _merge\n",
       "249  Greene / St-Ambroise  45.478796 -73.576424  6748  left_only\n",
       "419   Drolet / St-Zotique  45.534795 -73.609546  6311  left_only"
      ]
     },
     "execution_count": 51,
     "metadata": {},
     "output_type": "execute_result"
    }
   ],
   "source": [
    "df_all[df_all['_merge'] == \"left_only\"]"
   ]
  },
  {
   "cell_type": "code",
   "execution_count": 64,
   "metadata": {},
   "outputs": [],
   "source": [
    "df_all['2014_Station'] = np.where(df_all['_merge']=='both', 1, 0)\n"
   ]
  },
  {
   "cell_type": "code",
   "execution_count": 67,
   "metadata": {},
   "outputs": [],
   "source": [
    "df_all['2015_Station'] = 1\n"
   ]
  },
  {
   "cell_type": "code",
   "execution_count": 68,
   "metadata": {},
   "outputs": [
    {
     "data": {
      "text/html": [
       "<div>\n",
       "<style scoped>\n",
       "    .dataframe tbody tr th:only-of-type {\n",
       "        vertical-align: middle;\n",
       "    }\n",
       "\n",
       "    .dataframe tbody tr th {\n",
       "        vertical-align: top;\n",
       "    }\n",
       "\n",
       "    .dataframe thead th {\n",
       "        text-align: right;\n",
       "    }\n",
       "</style>\n",
       "<table border=\"1\" class=\"dataframe\">\n",
       "  <thead>\n",
       "    <tr style=\"text-align: right;\">\n",
       "      <th></th>\n",
       "      <th>name</th>\n",
       "      <th>latitude</th>\n",
       "      <th>longitude</th>\n",
       "      <th>code</th>\n",
       "      <th>_merge</th>\n",
       "      <th>2014_Station</th>\n",
       "      <th>2015_Station</th>\n",
       "    </tr>\n",
       "  </thead>\n",
       "  <tbody>\n",
       "    <tr>\n",
       "      <th>0</th>\n",
       "      <td>Chambord / Laurier</td>\n",
       "      <td>45.532955</td>\n",
       "      <td>-73.584194</td>\n",
       "      <td>6164</td>\n",
       "      <td>both</td>\n",
       "      <td>1</td>\n",
       "      <td>1</td>\n",
       "    </tr>\n",
       "    <tr>\n",
       "      <th>1</th>\n",
       "      <td>Parc Jeanne Mance (monument George-Étienne Car...</td>\n",
       "      <td>45.514960</td>\n",
       "      <td>-73.585030</td>\n",
       "      <td>6216</td>\n",
       "      <td>both</td>\n",
       "      <td>1</td>\n",
       "      <td>1</td>\n",
       "    </tr>\n",
       "    <tr>\n",
       "      <th>2</th>\n",
       "      <td>Berri / St-Grégoire</td>\n",
       "      <td>45.529802</td>\n",
       "      <td>-73.591766</td>\n",
       "      <td>6192</td>\n",
       "      <td>both</td>\n",
       "      <td>1</td>\n",
       "      <td>1</td>\n",
       "    </tr>\n",
       "    <tr>\n",
       "      <th>3</th>\n",
       "      <td>Gilford / Brébeuf</td>\n",
       "      <td>45.530730</td>\n",
       "      <td>-73.581530</td>\n",
       "      <td>6158</td>\n",
       "      <td>both</td>\n",
       "      <td>1</td>\n",
       "      <td>1</td>\n",
       "    </tr>\n",
       "    <tr>\n",
       "      <th>4</th>\n",
       "      <td>Marquette / Rachel</td>\n",
       "      <td>45.529802</td>\n",
       "      <td>-73.570290</td>\n",
       "      <td>6140</td>\n",
       "      <td>both</td>\n",
       "      <td>1</td>\n",
       "      <td>1</td>\n",
       "    </tr>\n",
       "  </tbody>\n",
       "</table>\n",
       "</div>"
      ],
      "text/plain": [
       "                                                name   latitude  longitude  \\\n",
       "0                                 Chambord / Laurier  45.532955 -73.584194   \n",
       "1  Parc Jeanne Mance (monument George-Étienne Car...  45.514960 -73.585030   \n",
       "2                                Berri / St-Grégoire  45.529802 -73.591766   \n",
       "3                                  Gilford / Brébeuf  45.530730 -73.581530   \n",
       "4                                 Marquette / Rachel  45.529802 -73.570290   \n",
       "\n",
       "   code _merge  2014_Station  2015_Station  \n",
       "0  6164   both             1             1  \n",
       "1  6216   both             1             1  \n",
       "2  6192   both             1             1  \n",
       "3  6158   both             1             1  \n",
       "4  6140   both             1             1  "
      ]
     },
     "execution_count": 68,
     "metadata": {},
     "output_type": "execute_result"
    }
   ],
   "source": [
    "df_all.head()"
   ]
  },
  {
   "cell_type": "code",
   "execution_count": null,
   "metadata": {},
   "outputs": [],
   "source": [
    "# Finish columns until 2020\n",
    "# Merge with 2021, 2022 with new codes\n",
    "# Create maps with new stations as different colors "
   ]
  },
  {
   "cell_type": "code",
   "execution_count": 64,
   "metadata": {},
   "outputs": [
    {
     "name": "stdout",
     "output_type": "stream",
     "text": [
      "2014\n",
      "2015\n",
      "2016\n",
      "2017\n"
     ]
    }
   ],
   "source": [
    "df_all = pd.DataFrame(columns = [\"latitude\",\"longitude\",\"name\", \"Code\"])\n",
    "for year in range(2014,2018):\n",
    "    link = f\"./BIXI_Data/Year {year}/Stations_{year}.csv\"\n",
    "    Stations_df = pd.read_csv(link, delimiter = \",\")\n",
    "    Stations_df.rename(columns = {\"code\":\"Code\", \"pk\":\"Code\"}, inplace=True)\n",
    "    df_all = Stations_df.merge(df_all.drop_duplicates(), on=[\"latitude\",\"longitude\",\"name\",\"Code\"], \n",
    "                   how='left', indicator=True)\n",
    "    df_all[f'{year}_Station'] = 1\n",
    "    df_all = df_all.drop('_merge', axis=1)\n",
    "    print(year)\n",
    "\n",
    "    "
   ]
  },
  {
   "cell_type": "code",
   "execution_count": 65,
   "metadata": {},
   "outputs": [
    {
     "data": {
      "text/plain": [
       "Code              0\n",
       "name              0\n",
       "latitude          0\n",
       "longitude         0\n",
       "Code_x          310\n",
       "Code_y          311\n",
       "Code_x          311\n",
       "Code_y          546\n",
       "2014_Station    311\n",
       "2015_Station    311\n",
       "2016_Station    310\n",
       "2017_Station      0\n",
       "dtype: int64"
      ]
     },
     "execution_count": 65,
     "metadata": {},
     "output_type": "execute_result"
    }
   ],
   "source": [
    "df_all.isnull().sum(axis = 0)\n"
   ]
  },
  {
   "cell_type": "code",
   "execution_count": null,
   "metadata": {},
   "outputs": [],
   "source": []
  }
 ],
 "metadata": {
  "kernelspec": {
   "display_name": "Python 3.7.3 64-bit (system)",
   "language": "python",
   "name": "python3"
  },
  "language_info": {
   "codemirror_mode": {
    "name": "ipython",
    "version": 3
   },
   "file_extension": ".py",
   "mimetype": "text/x-python",
   "name": "python",
   "nbconvert_exporter": "python",
   "pygments_lexer": "ipython3",
   "version": "3.7.3"
  },
  "orig_nbformat": 4,
  "vscode": {
   "interpreter": {
    "hash": "1e18d18613bb0294455cea661ff108eb92d373ce84bbe380570691317e992dae"
   }
  }
 },
 "nbformat": 4,
 "nbformat_minor": 2
}
